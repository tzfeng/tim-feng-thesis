{
 "cells": [
  {
   "cell_type": "code",
   "execution_count": 1,
   "metadata": {},
   "outputs": [],
   "source": [
    "import pandas as pd\n",
    "import numpy as np\n",
    "import matplotlib.pyplot as plt\n",
    "from scipy.stats import ks_2samp"
   ]
  },
  {
   "cell_type": "markdown",
   "metadata": {},
   "source": [
    "### Import raw baseball stats and salaries data"
   ]
  },
  {
   "cell_type": "code",
   "execution_count": 2,
   "metadata": {},
   "outputs": [],
   "source": [
    "batting_raw = pd.read_csv('Batting.csv')\n",
    "pitching_raw = pd.read_csv('Pitching.csv')\n",
    "salaries_raw = pd.read_csv('Salaries.csv')"
   ]
  },
  {
   "cell_type": "code",
   "execution_count": 3,
   "metadata": {},
   "outputs": [
    {
     "data": {
      "text/html": [
       "<div>\n",
       "<style scoped>\n",
       "    .dataframe tbody tr th:only-of-type {\n",
       "        vertical-align: middle;\n",
       "    }\n",
       "\n",
       "    .dataframe tbody tr th {\n",
       "        vertical-align: top;\n",
       "    }\n",
       "\n",
       "    .dataframe thead th {\n",
       "        text-align: right;\n",
       "    }\n",
       "</style>\n",
       "<table border=\"1\" class=\"dataframe\">\n",
       "  <thead>\n",
       "    <tr style=\"text-align: right;\">\n",
       "      <th></th>\n",
       "      <th>yearID</th>\n",
       "      <th>teamID</th>\n",
       "      <th>lgID</th>\n",
       "      <th>playerID</th>\n",
       "      <th>salary</th>\n",
       "    </tr>\n",
       "  </thead>\n",
       "  <tbody>\n",
       "    <tr>\n",
       "      <th>0</th>\n",
       "      <td>1985</td>\n",
       "      <td>ATL</td>\n",
       "      <td>NL</td>\n",
       "      <td>barkele01</td>\n",
       "      <td>870000</td>\n",
       "    </tr>\n",
       "    <tr>\n",
       "      <th>1</th>\n",
       "      <td>1985</td>\n",
       "      <td>ATL</td>\n",
       "      <td>NL</td>\n",
       "      <td>bedrost01</td>\n",
       "      <td>550000</td>\n",
       "    </tr>\n",
       "    <tr>\n",
       "      <th>2</th>\n",
       "      <td>1985</td>\n",
       "      <td>ATL</td>\n",
       "      <td>NL</td>\n",
       "      <td>benedbr01</td>\n",
       "      <td>545000</td>\n",
       "    </tr>\n",
       "    <tr>\n",
       "      <th>3</th>\n",
       "      <td>1985</td>\n",
       "      <td>ATL</td>\n",
       "      <td>NL</td>\n",
       "      <td>campri01</td>\n",
       "      <td>633333</td>\n",
       "    </tr>\n",
       "    <tr>\n",
       "      <th>4</th>\n",
       "      <td>1985</td>\n",
       "      <td>ATL</td>\n",
       "      <td>NL</td>\n",
       "      <td>ceronri01</td>\n",
       "      <td>625000</td>\n",
       "    </tr>\n",
       "  </tbody>\n",
       "</table>\n",
       "</div>"
      ],
      "text/plain": [
       "   yearID teamID lgID   playerID  salary\n",
       "0    1985    ATL   NL  barkele01  870000\n",
       "1    1985    ATL   NL  bedrost01  550000\n",
       "2    1985    ATL   NL  benedbr01  545000\n",
       "3    1985    ATL   NL   campri01  633333\n",
       "4    1985    ATL   NL  ceronri01  625000"
      ]
     },
     "execution_count": 3,
     "metadata": {},
     "output_type": "execute_result"
    }
   ],
   "source": [
    "salaries_raw.head()"
   ]
  },
  {
   "cell_type": "code",
   "execution_count": 4,
   "metadata": {},
   "outputs": [
    {
     "data": {
      "text/html": [
       "<div>\n",
       "<style scoped>\n",
       "    .dataframe tbody tr th:only-of-type {\n",
       "        vertical-align: middle;\n",
       "    }\n",
       "\n",
       "    .dataframe tbody tr th {\n",
       "        vertical-align: top;\n",
       "    }\n",
       "\n",
       "    .dataframe thead th {\n",
       "        text-align: right;\n",
       "    }\n",
       "</style>\n",
       "<table border=\"1\" class=\"dataframe\">\n",
       "  <thead>\n",
       "    <tr style=\"text-align: right;\">\n",
       "      <th></th>\n",
       "      <th>yearID</th>\n",
       "      <th>teamID</th>\n",
       "      <th>lgID</th>\n",
       "      <th>playerID</th>\n",
       "      <th>salary</th>\n",
       "    </tr>\n",
       "  </thead>\n",
       "  <tbody>\n",
       "    <tr>\n",
       "      <th>0</th>\n",
       "      <td>1985</td>\n",
       "      <td>ATL</td>\n",
       "      <td>NL</td>\n",
       "      <td>barkele01</td>\n",
       "      <td>870000</td>\n",
       "    </tr>\n",
       "    <tr>\n",
       "      <th>552</th>\n",
       "      <td>1986</td>\n",
       "      <td>ATL</td>\n",
       "      <td>NL</td>\n",
       "      <td>barkele01</td>\n",
       "      <td>880000</td>\n",
       "    </tr>\n",
       "    <tr>\n",
       "      <th>1291</th>\n",
       "      <td>1987</td>\n",
       "      <td>ATL</td>\n",
       "      <td>NL</td>\n",
       "      <td>barkele01</td>\n",
       "      <td>890000</td>\n",
       "    </tr>\n",
       "    <tr>\n",
       "      <th>1613</th>\n",
       "      <td>1987</td>\n",
       "      <td>ML4</td>\n",
       "      <td>AL</td>\n",
       "      <td>barkele01</td>\n",
       "      <td>72500</td>\n",
       "    </tr>\n",
       "    <tr>\n",
       "      <th>1917</th>\n",
       "      <td>1988</td>\n",
       "      <td>ATL</td>\n",
       "      <td>NL</td>\n",
       "      <td>barkele01</td>\n",
       "      <td>900000</td>\n",
       "    </tr>\n",
       "  </tbody>\n",
       "</table>\n",
       "</div>"
      ],
      "text/plain": [
       "      yearID teamID lgID   playerID  salary\n",
       "0       1985    ATL   NL  barkele01  870000\n",
       "552     1986    ATL   NL  barkele01  880000\n",
       "1291    1987    ATL   NL  barkele01  890000\n",
       "1613    1987    ML4   AL  barkele01   72500\n",
       "1917    1988    ATL   NL  barkele01  900000"
      ]
     },
     "execution_count": 4,
     "metadata": {},
     "output_type": "execute_result"
    }
   ],
   "source": [
    "salaries_raw[salaries_raw['playerID'] == 'barkele01']"
   ]
  },
  {
   "cell_type": "markdown",
   "metadata": {},
   "source": [
    "### Perform joins between batting stats and salaries, pitching stats and salaries"
   ]
  },
  {
   "cell_type": "code",
   "execution_count": 5,
   "metadata": {},
   "outputs": [],
   "source": [
    "df_batting = salaries_raw.merge(batting_raw, how='left',on=['playerID', 'yearID'])\n",
    "df_pitching = salaries_raw.merge(pitching_raw, how='left', on=['playerID', 'yearID'])\n",
    "df_all = df_batting.append(df_pitching).sort_values(by=['yearID'])"
   ]
  },
  {
   "cell_type": "markdown",
   "metadata": {},
   "source": [
    "### Create salary vectors for batters, pitchers, and all players"
   ]
  },
  {
   "cell_type": "code",
   "execution_count": 6,
   "metadata": {},
   "outputs": [],
   "source": [
    "salaries_b = df_batting['salary']\n",
    "salaries_p = df_pitching['salary']\n",
    "salaries_all = df_all['salary']"
   ]
  },
  {
   "cell_type": "markdown",
   "metadata": {},
   "source": [
    "### Summarize distributions of batters, pitchers, and all players"
   ]
  },
  {
   "cell_type": "code",
   "execution_count": 7,
   "metadata": {},
   "outputs": [],
   "source": [
    "dist_all = salaries_all.describe()\n",
    "dist_b = salaries_b.describe()\n",
    "dist_p = salaries_p.describe()"
   ]
  },
  {
   "cell_type": "code",
   "execution_count": 8,
   "metadata": {},
   "outputs": [],
   "source": [
    "pd.options.display.float_format = '{:,.0f}'.format\n",
    "\n",
    "dist_summary = pd.DataFrame()\n",
    "dist_summary['All Players'] = dist_all\n",
    "dist_summary['Batters'] = dist_b\n",
    "dist_summary['Pitchers'] = dist_p"
   ]
  },
  {
   "cell_type": "code",
   "execution_count": 9,
   "metadata": {},
   "outputs": [
    {
     "data": {
      "text/html": [
       "<div>\n",
       "<style scoped>\n",
       "    .dataframe tbody tr th:only-of-type {\n",
       "        vertical-align: middle;\n",
       "    }\n",
       "\n",
       "    .dataframe tbody tr th {\n",
       "        vertical-align: top;\n",
       "    }\n",
       "\n",
       "    .dataframe thead th {\n",
       "        text-align: right;\n",
       "    }\n",
       "</style>\n",
       "<table border=\"1\" class=\"dataframe\">\n",
       "  <thead>\n",
       "    <tr style=\"text-align: right;\">\n",
       "      <th></th>\n",
       "      <th>All Players</th>\n",
       "      <th>Batters</th>\n",
       "      <th>Pitchers</th>\n",
       "    </tr>\n",
       "  </thead>\n",
       "  <tbody>\n",
       "    <tr>\n",
       "      <th>count</th>\n",
       "      <td>56,870</td>\n",
       "      <td>29,119</td>\n",
       "      <td>27,751</td>\n",
       "    </tr>\n",
       "    <tr>\n",
       "      <th>mean</th>\n",
       "      <td>2,088,687</td>\n",
       "      <td>2,093,820</td>\n",
       "      <td>2,083,301</td>\n",
       "    </tr>\n",
       "    <tr>\n",
       "      <th>std</th>\n",
       "      <td>3,428,333</td>\n",
       "      <td>3,426,311</td>\n",
       "      <td>3,430,506</td>\n",
       "    </tr>\n",
       "    <tr>\n",
       "      <th>min</th>\n",
       "      <td>0</td>\n",
       "      <td>0</td>\n",
       "      <td>0</td>\n",
       "    </tr>\n",
       "    <tr>\n",
       "      <th>25%</th>\n",
       "      <td>300,000</td>\n",
       "      <td>300,000</td>\n",
       "      <td>300,000</td>\n",
       "    </tr>\n",
       "    <tr>\n",
       "      <th>50%</th>\n",
       "      <td>575,000</td>\n",
       "      <td>575,000</td>\n",
       "      <td>560,619</td>\n",
       "    </tr>\n",
       "    <tr>\n",
       "      <th>75%</th>\n",
       "      <td>2,387,500</td>\n",
       "      <td>2,400,000</td>\n",
       "      <td>2,366,667</td>\n",
       "    </tr>\n",
       "    <tr>\n",
       "      <th>max</th>\n",
       "      <td>33,000,000</td>\n",
       "      <td>33,000,000</td>\n",
       "      <td>33,000,000</td>\n",
       "    </tr>\n",
       "  </tbody>\n",
       "</table>\n",
       "</div>"
      ],
      "text/plain": [
       "       All Players    Batters   Pitchers\n",
       "count       56,870     29,119     27,751\n",
       "mean     2,088,687  2,093,820  2,083,301\n",
       "std      3,428,333  3,426,311  3,430,506\n",
       "min              0          0          0\n",
       "25%        300,000    300,000    300,000\n",
       "50%        575,000    575,000    560,619\n",
       "75%      2,387,500  2,400,000  2,366,667\n",
       "max     33,000,000 33,000,000 33,000,000"
      ]
     },
     "execution_count": 9,
     "metadata": {},
     "output_type": "execute_result"
    }
   ],
   "source": [
    "dist_summary"
   ]
  },
  {
   "cell_type": "markdown",
   "metadata": {},
   "source": [
    "Every summary statistic is similar across all batters, pitchers, and all players. We compare the distributions by using the Kolmogorov-Smirnov test."
   ]
  },
  {
   "cell_type": "markdown",
   "metadata": {},
   "source": [
    "### Compare distributions of batters, pitchers, and all players using KS test"
   ]
  },
  {
   "cell_type": "markdown",
   "metadata": {},
   "source": [
    "Under the KS test, the null hypothesis is that the distributions being compared are the same. If the p-value of the KS test is higher than a significance level a (usually 0.05 or 0.01), then the null hypothesis cannot be rejected and it is highly probable the distributions compared are the same."
   ]
  },
  {
   "cell_type": "code",
   "execution_count": 10,
   "metadata": {},
   "outputs": [
    {
     "data": {
      "text/plain": [
       "Ks_2sampResult(statistic=0.004640375516441364, pvalue=0.9196232015390564)"
      ]
     },
     "execution_count": 10,
     "metadata": {},
     "output_type": "execute_result"
    }
   ],
   "source": [
    "# compare batter and pitcher distributions\n",
    "ks_2samp(salaries_b, salaries_p)"
   ]
  },
  {
   "cell_type": "code",
   "execution_count": 11,
   "metadata": {},
   "outputs": [
    {
     "data": {
      "text/plain": [
       "Ks_2sampResult(statistic=0.0022643759619617176, pvalue=0.9999700892205982)"
      ]
     },
     "execution_count": 11,
     "metadata": {},
     "output_type": "execute_result"
    }
   ],
   "source": [
    "# compare batter and all player distributions\n",
    "ks_2samp(salaries_b, salaries_all)"
   ]
  },
  {
   "cell_type": "code",
   "execution_count": 12,
   "metadata": {},
   "outputs": [
    {
     "data": {
      "text/plain": [
       "Ks_2sampResult(statistic=0.0023759995544796464, pvalue=0.999937038482962)"
      ]
     },
     "execution_count": 12,
     "metadata": {},
     "output_type": "execute_result"
    }
   ],
   "source": [
    "# compare pitcher and all player distributions\n",
    "ks_2samp(salaries_p, salaries_all)"
   ]
  },
  {
   "cell_type": "markdown",
   "metadata": {},
   "source": [
    "Looking at all three comparisons (batters vs. pitchers, batters vs. all players, pitchers vs. all players), the p-values are all very large. Therefore, it is highly probable that all three distributions are the same. We adjust for this finding by performing analyses on just the income distribution for all players, since looking at all three distributions would be redundant."
   ]
  },
  {
   "cell_type": "markdown",
   "metadata": {},
   "source": [
    "### Visualize how income in the MLB has changed over time"
   ]
  },
  {
   "cell_type": "code",
   "execution_count": 13,
   "metadata": {},
   "outputs": [],
   "source": [
    "avg_all = df_all.groupby(['yearID']).mean()"
   ]
  },
  {
   "cell_type": "code",
   "execution_count": 53,
   "metadata": {
    "scrolled": true
   },
   "outputs": [
    {
     "data": {
      "text/plain": [
       "<matplotlib.axes._subplots.AxesSubplot at 0x7f9e34fed7d0>"
      ]
     },
     "execution_count": 53,
     "metadata": {},
     "output_type": "execute_result"
    },
    {
     "data": {
      "image/png": "[encoded data removed]",
      "text/plain": [
       "<Figure size 432x288 with 1 Axes>"
      ]
     },
     "metadata": {
      "needs_background": "light"
     },
     "output_type": "display_data"
    }
   ],
   "source": [
    "avg_all.plot(y='salary', title = 'Average Player Salary over Time')"
   ]
  },
  {
   "cell_type": "markdown",
   "metadata": {},
   "source": [
    "### Calculating average annual growth rate in all player salaries"
   ]
  },
  {
   "cell_type": "code",
   "execution_count": 9,
   "metadata": {},
   "outputs": [],
   "source": [
    "salary1985 = avg_all['salary'].loc[1985]\n",
    "salary2016 = avg_all['salary'].loc[2016]"
   ]
  },
  {
   "cell_type": "code",
   "execution_count": 10,
   "metadata": {},
   "outputs": [
    {
     "data": {
      "text/plain": [
       "9.185254515355856"
      ]
     },
     "execution_count": 10,
     "metadata": {},
     "output_type": "execute_result"
    }
   ],
   "source": [
    "total_growth = salary2016 / salary1985\n",
    "total_growth"
   ]
  },
  {
   "cell_type": "code",
   "execution_count": 11,
   "metadata": {},
   "outputs": [
    {
     "data": {
      "text/plain": [
       "0.07175766907873271"
      ]
     },
     "execution_count": 11,
     "metadata": {},
     "output_type": "execute_result"
    }
   ],
   "source": [
    "avg_growth = total_growth**(1/len(avg_all)) - 1\n",
    "avg_growth"
   ]
  },
  {
   "cell_type": "markdown",
   "metadata": {},
   "source": [
    "Average income in the MLB has increased constantly, at an annual average growth rate of 7%. This is due to inflation as well as increases in the MLB salary cap over time. Find source"
   ]
  },
  {
   "cell_type": "markdown",
   "metadata": {},
   "source": [
    "### Comparing annual growth rates to inflation rates"
   ]
  },
  {
   "cell_type": "code",
   "execution_count": 12,
   "metadata": {},
   "outputs": [
    {
     "data": {
      "text/plain": [
       "yearID\n",
       "1985   -0\n",
       "1986    0\n",
       "1987    0\n",
       "1988    0\n",
       "1989    0\n",
       "Name: salary, dtype: float64"
      ]
     },
     "execution_count": 12,
     "metadata": {},
     "output_type": "execute_result"
    }
   ],
   "source": [
    "annual_growth = avg_all['salary'].pct_change()\n",
    "annual_growth = annual_growth.shift(periods=-1).drop([2016])\n",
    "annual_growth.head()"
   ]
  },
  {
   "cell_type": "code",
   "execution_count": 13,
   "metadata": {},
   "outputs": [
    {
     "data": {
      "text/html": [
       "<div>\n",
       "<style scoped>\n",
       "    .dataframe tbody tr th:only-of-type {\n",
       "        vertical-align: middle;\n",
       "    }\n",
       "\n",
       "    .dataframe tbody tr th {\n",
       "        vertical-align: top;\n",
       "    }\n",
       "\n",
       "    .dataframe thead th {\n",
       "        text-align: right;\n",
       "    }\n",
       "</style>\n",
       "<table border=\"1\" class=\"dataframe\">\n",
       "  <thead>\n",
       "    <tr style=\"text-align: right;\">\n",
       "      <th></th>\n",
       "      <th>Rate</th>\n",
       "    </tr>\n",
       "    <tr>\n",
       "      <th>Year</th>\n",
       "      <th></th>\n",
       "    </tr>\n",
       "  </thead>\n",
       "  <tbody>\n",
       "    <tr>\n",
       "      <th>1985</th>\n",
       "      <td>0</td>\n",
       "    </tr>\n",
       "    <tr>\n",
       "      <th>1986</th>\n",
       "      <td>0</td>\n",
       "    </tr>\n",
       "    <tr>\n",
       "      <th>1987</th>\n",
       "      <td>0</td>\n",
       "    </tr>\n",
       "    <tr>\n",
       "      <th>1988</th>\n",
       "      <td>0</td>\n",
       "    </tr>\n",
       "    <tr>\n",
       "      <th>1989</th>\n",
       "      <td>0</td>\n",
       "    </tr>\n",
       "  </tbody>\n",
       "</table>\n",
       "</div>"
      ],
      "text/plain": [
       "      Rate \n",
       "Year       \n",
       "1985      0\n",
       "1986      0\n",
       "1987      0\n",
       "1988      0\n",
       "1989      0"
      ]
     },
     "execution_count": 13,
     "metadata": {},
     "output_type": "execute_result"
    }
   ],
   "source": [
    "inflation = pd.read_csv('united-states-inflation-rate-cpi.csv')\n",
    "inflation = inflation.set_index('Year')\n",
    "inflation.head()"
   ]
  },
  {
   "cell_type": "code",
   "execution_count": 14,
   "metadata": {},
   "outputs": [],
   "source": [
    "years = np.arange(1985, 2016, 1)\n",
    "growth = np.asarray(annual_growth)\n",
    "inflation = np.asarray(inflation)"
   ]
  },
  {
   "cell_type": "code",
   "execution_count": 15,
   "metadata": {},
   "outputs": [
    {
     "data": {
      "image/png": "[encoded data removed]",
      "text/plain": [
       "<Figure size 432x288 with 1 Axes>"
      ]
     },
     "metadata": {
      "needs_background": "light"
     },
     "output_type": "display_data"
    }
   ],
   "source": [
    "plt.plot(years, annual_growth)\n",
    "plt.plot(years, inflation)\n",
    "plt.title('Annual Salary Growth and Inflation over Time')\n",
    "plt.ylabel('Annual Rate')\n",
    "plt.legend(('Salary Growth Rate', 'Inflation Rate'),loc='best')\n",
    "plt.show()"
   ]
  },
  {
   "cell_type": "markdown",
   "metadata": {},
   "source": [
    "We see that the annual salary growth rate is near the annual inflation rate for most years in the time span of the data we have (1985 - 2016). There are a few years where the salary growth rate is outsized compared to the inflation rate - this can likely be attributed to increases in MLB salary cap."
   ]
  },
  {
   "cell_type": "markdown",
   "metadata": {},
   "source": [
    "### Adjusting MLB salary data for inflation"
   ]
  },
  {
   "cell_type": "code",
   "execution_count": 155,
   "metadata": {},
   "outputs": [],
   "source": [
    "inflation = [inflation[i][0] for i in range(len(inflation))]"
   ]
  },
  {
   "cell_type": "code",
   "execution_count": 160,
   "metadata": {},
   "outputs": [],
   "source": [
    "df_inf = pd.DataFrame()\n",
    "df_inf['yearID'] = years\n",
    "df_inf['rate'] = inflation\n",
    "df_inf = df_inf.set_index('yearID')"
   ]
  },
  {
   "cell_type": "code",
   "execution_count": 191,
   "metadata": {},
   "outputs": [
    {
     "data": {
      "text/html": [
       "<div>\n",
       "<style scoped>\n",
       "    .dataframe tbody tr th:only-of-type {\n",
       "        vertical-align: middle;\n",
       "    }\n",
       "\n",
       "    .dataframe tbody tr th {\n",
       "        vertical-align: top;\n",
       "    }\n",
       "\n",
       "    .dataframe thead th {\n",
       "        text-align: right;\n",
       "    }\n",
       "</style>\n",
       "<table border=\"1\" class=\"dataframe\">\n",
       "  <thead>\n",
       "    <tr style=\"text-align: right;\">\n",
       "      <th></th>\n",
       "      <th>yearID</th>\n",
       "      <th>playerID</th>\n",
       "      <th>salary</th>\n",
       "    </tr>\n",
       "  </thead>\n",
       "  <tbody>\n",
       "  </tbody>\n",
       "</table>\n",
       "</div>"
      ],
      "text/plain": [
       "Empty DataFrame\n",
       "Columns: [yearID, playerID, salary]\n",
       "Index: []"
      ]
     },
     "execution_count": 191,
     "metadata": {},
     "output_type": "execute_result"
    }
   ],
   "source": [
    "salaries_adj = pd.DataFrame(columns=['yearID', 'playerID', 'salary'])\n",
    "salaries_adj"
   ]
  },
  {
   "cell_type": "code",
   "execution_count": 192,
   "metadata": {},
   "outputs": [],
   "source": [
    "for i in range(len(df_all)):\n",
    "    year = df_all['yearID'].iloc[i]\n",
    "    player = df_all['playerID'].iloc[i]\n",
    "    timediff = year - 1985\n",
    "    temp = df_all['salary'].iloc[i]\n",
    "    \n",
    "    if timediff > 0: \n",
    "        for j in range((timediff - 1), -1, -1):\n",
    "            temp = temp / (1 + df_inf['rate'].iloc[j])\n",
    "            \n",
    "    tempdf = pd.DataFrame([[year, player, temp]], columns = ['yearID', 'playerID', 'salary'])\n",
    "    salaries_adj = pd.concat([salaries_adj, tempdf])"
   ]
  },
  {
   "cell_type": "code",
   "execution_count": null,
   "metadata": {},
   "outputs": [],
   "source": [
    "year = df_all['yearID'].iloc[0]\n",
    "player = df_all['playerID'].iloc[0]\n",
    "temp = df_all['salary'].iloc[0]\n",
    "tempdf = pd.DataFrame([[year, player, temp]], columns = ['yearID', 'playerID', 'salary'])\n",
    "tempdf"
   ]
  },
  {
   "cell_type": "code",
   "execution_count": 195,
   "metadata": {},
   "outputs": [
    {
     "data": {
      "text/html": [
       "<div>\n",
       "<style scoped>\n",
       "    .dataframe tbody tr th:only-of-type {\n",
       "        vertical-align: middle;\n",
       "    }\n",
       "\n",
       "    .dataframe tbody tr th {\n",
       "        vertical-align: top;\n",
       "    }\n",
       "\n",
       "    .dataframe thead th {\n",
       "        text-align: right;\n",
       "    }\n",
       "</style>\n",
       "<table border=\"1\" class=\"dataframe\">\n",
       "  <thead>\n",
       "    <tr style=\"text-align: right;\">\n",
       "      <th></th>\n",
       "      <th>yearID</th>\n",
       "      <th>playerID</th>\n",
       "      <th>salary</th>\n",
       "    </tr>\n",
       "  </thead>\n",
       "  <tbody>\n",
       "    <tr>\n",
       "      <th>0</th>\n",
       "      <td>1985</td>\n",
       "      <td>barkele01</td>\n",
       "      <td>870000</td>\n",
       "    </tr>\n",
       "    <tr>\n",
       "      <th>0</th>\n",
       "      <td>1985</td>\n",
       "      <td>vukovge01</td>\n",
       "      <td>375000</td>\n",
       "    </tr>\n",
       "    <tr>\n",
       "      <th>0</th>\n",
       "      <td>1985</td>\n",
       "      <td>thornan01</td>\n",
       "      <td>1100000</td>\n",
       "    </tr>\n",
       "    <tr>\n",
       "      <th>0</th>\n",
       "      <td>1985</td>\n",
       "      <td>tablepa01</td>\n",
       "      <td>285000</td>\n",
       "    </tr>\n",
       "    <tr>\n",
       "      <th>0</th>\n",
       "      <td>1985</td>\n",
       "      <td>ruhleve01</td>\n",
       "      <td>295000</td>\n",
       "    </tr>\n",
       "    <tr>\n",
       "      <th>...</th>\n",
       "      <td>...</td>\n",
       "      <td>...</td>\n",
       "      <td>...</td>\n",
       "    </tr>\n",
       "    <tr>\n",
       "      <th>0</th>\n",
       "      <td>2016</td>\n",
       "      <td>parkeja02</td>\n",
       "      <td>372,551.6270</td>\n",
       "    </tr>\n",
       "    <tr>\n",
       "      <th>0</th>\n",
       "      <td>2016</td>\n",
       "      <td>madsory01</td>\n",
       "      <td>2,921,973.6909</td>\n",
       "    </tr>\n",
       "    <tr>\n",
       "      <th>0</th>\n",
       "      <td>2016</td>\n",
       "      <td>lowrije01</td>\n",
       "      <td>3,287,220.2379</td>\n",
       "    </tr>\n",
       "    <tr>\n",
       "      <th>0</th>\n",
       "      <td>2016</td>\n",
       "      <td>vogtst01</td>\n",
       "      <td>231,201.1567</td>\n",
       "    </tr>\n",
       "    <tr>\n",
       "      <th>0</th>\n",
       "      <td>2016</td>\n",
       "      <td>zimmery01</td>\n",
       "      <td>6,136,144.4442</td>\n",
       "    </tr>\n",
       "  </tbody>\n",
       "</table>\n",
       "<p>56870 rows × 3 columns</p>\n",
       "</div>"
      ],
      "text/plain": [
       "   yearID   playerID         salary\n",
       "0    1985  barkele01         870000\n",
       "0    1985  vukovge01         375000\n",
       "0    1985  thornan01        1100000\n",
       "0    1985  tablepa01         285000\n",
       "0    1985  ruhleve01         295000\n",
       "..    ...        ...            ...\n",
       "0    2016  parkeja02   372,551.6270\n",
       "0    2016  madsory01 2,921,973.6909\n",
       "0    2016  lowrije01 3,287,220.2379\n",
       "0    2016   vogtst01   231,201.1567\n",
       "0    2016  zimmery01 6,136,144.4442\n",
       "\n",
       "[56870 rows x 3 columns]"
      ]
     },
     "execution_count": 195,
     "metadata": {},
     "output_type": "execute_result"
    }
   ],
   "source": [
    "salaries_adj"
   ]
  },
  {
   "cell_type": "code",
   "execution_count": 197,
   "metadata": {},
   "outputs": [],
   "source": [
    "# export as csv\n",
    "salaries_adj.to_csv(r'C:\\Users\\timfeng\\Desktop\\Thesis\\Code\\inflation-adjusted-salaries.csv', \n",
    "                    index=False, header=True)"
   ]
  },
  {
   "cell_type": "markdown",
   "metadata": {},
   "source": [
    "### Calculate inflation adjusted annual growth rates for player salaries"
   ]
  },
  {
   "cell_type": "code",
   "execution_count": 14,
   "metadata": {},
   "outputs": [
    {
     "data": {
      "text/html": [
       "<div>\n",
       "<style scoped>\n",
       "    .dataframe tbody tr th:only-of-type {\n",
       "        vertical-align: middle;\n",
       "    }\n",
       "\n",
       "    .dataframe tbody tr th {\n",
       "        vertical-align: top;\n",
       "    }\n",
       "\n",
       "    .dataframe thead th {\n",
       "        text-align: right;\n",
       "    }\n",
       "</style>\n",
       "<table border=\"1\" class=\"dataframe\">\n",
       "  <thead>\n",
       "    <tr style=\"text-align: right;\">\n",
       "      <th></th>\n",
       "      <th>yearID</th>\n",
       "      <th>playerID</th>\n",
       "      <th>salary</th>\n",
       "    </tr>\n",
       "  </thead>\n",
       "  <tbody>\n",
       "    <tr>\n",
       "      <th>0</th>\n",
       "      <td>1985</td>\n",
       "      <td>barkele01</td>\n",
       "      <td>870,000</td>\n",
       "    </tr>\n",
       "    <tr>\n",
       "      <th>1</th>\n",
       "      <td>1985</td>\n",
       "      <td>vukovge01</td>\n",
       "      <td>375,000</td>\n",
       "    </tr>\n",
       "    <tr>\n",
       "      <th>2</th>\n",
       "      <td>1985</td>\n",
       "      <td>thornan01</td>\n",
       "      <td>1,100,000</td>\n",
       "    </tr>\n",
       "    <tr>\n",
       "      <th>3</th>\n",
       "      <td>1985</td>\n",
       "      <td>tablepa01</td>\n",
       "      <td>285,000</td>\n",
       "    </tr>\n",
       "    <tr>\n",
       "      <th>4</th>\n",
       "      <td>1985</td>\n",
       "      <td>ruhleve01</td>\n",
       "      <td>295,000</td>\n",
       "    </tr>\n",
       "  </tbody>\n",
       "</table>\n",
       "</div>"
      ],
      "text/plain": [
       "   yearID   playerID    salary\n",
       "0    1985  barkele01   870,000\n",
       "1    1985  vukovge01   375,000\n",
       "2    1985  thornan01 1,100,000\n",
       "3    1985  tablepa01   285,000\n",
       "4    1985  ruhleve01   295,000"
      ]
     },
     "execution_count": 14,
     "metadata": {},
     "output_type": "execute_result"
    }
   ],
   "source": [
    "sal_adj = pd.read_csv('inflation-adjusted-salaries.csv')\n",
    "sal_adj.head()"
   ]
  },
  {
   "cell_type": "code",
   "execution_count": 15,
   "metadata": {},
   "outputs": [
    {
     "data": {
      "text/html": [
       "<div>\n",
       "<style scoped>\n",
       "    .dataframe tbody tr th:only-of-type {\n",
       "        vertical-align: middle;\n",
       "    }\n",
       "\n",
       "    .dataframe tbody tr th {\n",
       "        vertical-align: top;\n",
       "    }\n",
       "\n",
       "    .dataframe thead th {\n",
       "        text-align: right;\n",
       "    }\n",
       "</style>\n",
       "<table border=\"1\" class=\"dataframe\">\n",
       "  <thead>\n",
       "    <tr style=\"text-align: right;\">\n",
       "      <th></th>\n",
       "      <th>salary</th>\n",
       "    </tr>\n",
       "    <tr>\n",
       "      <th>yearID</th>\n",
       "      <th></th>\n",
       "    </tr>\n",
       "  </thead>\n",
       "  <tbody>\n",
       "    <tr>\n",
       "      <th>1985</th>\n",
       "      <td>479,249</td>\n",
       "    </tr>\n",
       "    <tr>\n",
       "      <th>1986</th>\n",
       "      <td>403,611</td>\n",
       "    </tr>\n",
       "    <tr>\n",
       "      <th>1987</th>\n",
       "      <td>413,537</td>\n",
       "    </tr>\n",
       "    <tr>\n",
       "      <th>1988</th>\n",
       "      <td>415,853</td>\n",
       "    </tr>\n",
       "    <tr>\n",
       "      <th>1989</th>\n",
       "      <td>442,124</td>\n",
       "    </tr>\n",
       "  </tbody>\n",
       "</table>\n",
       "</div>"
      ],
      "text/plain": [
       "        salary\n",
       "yearID        \n",
       "1985   479,249\n",
       "1986   403,611\n",
       "1987   413,537\n",
       "1988   415,853\n",
       "1989   442,124"
      ]
     },
     "execution_count": 15,
     "metadata": {},
     "output_type": "execute_result"
    }
   ],
   "source": [
    "avg_adj = sal_adj.groupby(['yearID']).mean()\n",
    "avg_adj.head()"
   ]
  },
  {
   "cell_type": "code",
   "execution_count": 16,
   "metadata": {},
   "outputs": [],
   "source": [
    "sal_adj1985 = avg_adj['salary'].loc[1985]\n",
    "sal_adj2016 = avg_adj['salary'].loc[2016]"
   ]
  },
  {
   "cell_type": "code",
   "execution_count": 17,
   "metadata": {},
   "outputs": [
    {
     "data": {
      "text/plain": [
       "4.025860604464634"
      ]
     },
     "execution_count": 17,
     "metadata": {},
     "output_type": "execute_result"
    }
   ],
   "source": [
    "tg_adj = sal_adj2016 / sal_adj1985\n",
    "tg_adj"
   ]
  },
  {
   "cell_type": "code",
   "execution_count": 18,
   "metadata": {
    "scrolled": true
   },
   "outputs": [
    {
     "data": {
      "text/plain": [
       "0.04448410538754066"
      ]
     },
     "execution_count": 18,
     "metadata": {},
     "output_type": "execute_result"
    }
   ],
   "source": [
    "ag_adj = tg_adj**(1/len(avg_adj)) - 1\n",
    "ag_adj"
   ]
  },
  {
   "cell_type": "markdown",
   "metadata": {},
   "source": [
    "Adjusted for inflation, average salary in the MLB increased constantly at an average annual growth rate of ~4.4%."
   ]
  },
  {
   "cell_type": "markdown",
   "metadata": {},
   "source": [
    "### Visualize how inflation-adjusted income has changed over time"
   ]
  },
  {
   "cell_type": "code",
   "execution_count": 19,
   "metadata": {},
   "outputs": [],
   "source": [
    "years = np.arange(1985, 2017, 1)\n",
    "adj = np.asarray(avg_adj['salary'])\n",
    "orig = np.asarray(avg_all['salary'])"
   ]
  },
  {
   "cell_type": "code",
   "execution_count": 20,
   "metadata": {},
   "outputs": [
    {
     "data": {
      "image/png": "[encoded data removed]",
      "text/plain": [
       "<Figure size 432x288 with 1 Axes>"
      ]
     },
     "metadata": {
      "needs_background": "light"
     },
     "output_type": "display_data"
    }
   ],
   "source": [
    "plt.plot(years, orig)\n",
    "plt.plot(years, adj)\n",
    "plt.title('Average Inflation-Adjusted Player Salary over Time')\n",
    "plt.ylabel('Average Salary')\n",
    "plt.legend(('Non-Adjusted', 'Inflation-Adjusted'),loc='best')\n",
    "plt.show()"
   ]
  },
  {
   "cell_type": "markdown",
   "metadata": {},
   "source": [
    "### Summarize and visualize the distribution of inflation-adjusted income"
   ]
  },
  {
   "cell_type": "code",
   "execution_count": 21,
   "metadata": {},
   "outputs": [],
   "source": [
    "sal2016 = sal_adj[sal_adj['yearID'] == 2016]['salary']"
   ]
  },
  {
   "cell_type": "code",
   "execution_count": 22,
   "metadata": {},
   "outputs": [
    {
     "data": {
      "text/plain": [
       "count        1,848\n",
       "mean     1,929,391\n",
       "std      2,547,278\n",
       "min        222,435\n",
       "25%        228,045\n",
       "50%        679,359\n",
       "75%      2,629,776\n",
       "max     14,463,769\n",
       "Name: salary, dtype: float64"
      ]
     },
     "execution_count": 22,
     "metadata": {},
     "output_type": "execute_result"
    }
   ],
   "source": [
    "dist_adj = sal2016.describe()\n",
    "dist_adj"
   ]
  },
  {
   "cell_type": "code",
   "execution_count": 23,
   "metadata": {},
   "outputs": [
    {
     "data": {
      "text/plain": [
       "<matplotlib.axes._subplots.AxesSubplot at 0x7f979e9e1e10>"
      ]
     },
     "execution_count": 23,
     "metadata": {},
     "output_type": "execute_result"
    },
    {
     "data": {
      "image/png": "[encoded data removed]",
      "text/plain": [
       "<Figure size 432x288 with 1 Axes>"
      ]
     },
     "metadata": {
      "needs_background": "light"
     },
     "output_type": "display_data"
    }
   ],
   "source": [
    "sal2016.plot(kind='hist',title='Inflation-Adjusted Salaries for All Players, 2016')"
   ]
  },
  {
   "cell_type": "code",
   "execution_count": 24,
   "metadata": {},
   "outputs": [
    {
     "data": {
      "text/plain": [
       "1270"
      ]
     },
     "execution_count": 24,
     "metadata": {},
     "output_type": "execute_result"
    }
   ],
   "source": [
    "ba = sal2016[sal2016< dist_adj['mean']]\n",
    "len(ba)"
   ]
  },
  {
   "cell_type": "code",
   "execution_count": 25,
   "metadata": {},
   "outputs": [
    {
     "data": {
      "text/plain": [
       "0.6872294372294372"
      ]
     },
     "execution_count": 25,
     "metadata": {},
     "output_type": "execute_result"
    }
   ],
   "source": [
    "1270/dist_adj['count']"
   ]
  },
  {
   "cell_type": "markdown",
   "metadata": {},
   "source": [
    "Next steps\n",
    "\n",
    "- average of percentiles?\n",
    "- percentiles over time?\n",
    "- average of percentiles over time?"
   ]
  },
  {
   "cell_type": "markdown",
   "metadata": {},
   "source": [
    "### Visualize how each percentile has changed over time"
   ]
  },
  {
   "cell_type": "code",
   "execution_count": 26,
   "metadata": {},
   "outputs": [
    {
     "data": {
      "text/html": [
       "<div>\n",
       "<style scoped>\n",
       "    .dataframe tbody tr th:only-of-type {\n",
       "        vertical-align: middle;\n",
       "    }\n",
       "\n",
       "    .dataframe tbody tr th {\n",
       "        vertical-align: top;\n",
       "    }\n",
       "\n",
       "    .dataframe thead th {\n",
       "        text-align: right;\n",
       "    }\n",
       "</style>\n",
       "<table border=\"1\" class=\"dataframe\">\n",
       "  <thead>\n",
       "    <tr style=\"text-align: right;\">\n",
       "      <th></th>\n",
       "      <th>count</th>\n",
       "      <th>mean</th>\n",
       "      <th>std</th>\n",
       "      <th>min</th>\n",
       "      <th>25%</th>\n",
       "      <th>50%</th>\n",
       "      <th>75%</th>\n",
       "      <th>max</th>\n",
       "    </tr>\n",
       "    <tr>\n",
       "      <th>yearID</th>\n",
       "      <th></th>\n",
       "      <th></th>\n",
       "      <th></th>\n",
       "      <th></th>\n",
       "      <th></th>\n",
       "      <th></th>\n",
       "      <th></th>\n",
       "      <th></th>\n",
       "    </tr>\n",
       "  </thead>\n",
       "  <tbody>\n",
       "    <tr>\n",
       "      <th>1985</th>\n",
       "      <td>1,153</td>\n",
       "      <td>479,249</td>\n",
       "      <td>338,697</td>\n",
       "      <td>60,000</td>\n",
       "      <td>210,000</td>\n",
       "      <td>410,000</td>\n",
       "      <td>660,000</td>\n",
       "      <td>2,130,300</td>\n",
       "    </tr>\n",
       "    <tr>\n",
       "      <th>1986</th>\n",
       "      <td>1,571</td>\n",
       "      <td>403,611</td>\n",
       "      <td>382,879</td>\n",
       "      <td>57,945</td>\n",
       "      <td>85,952</td>\n",
       "      <td>284,899</td>\n",
       "      <td>627,743</td>\n",
       "      <td>2,704,123</td>\n",
       "    </tr>\n",
       "    <tr>\n",
       "      <th>1987</th>\n",
       "      <td>1,343</td>\n",
       "      <td>413,537</td>\n",
       "      <td>403,741</td>\n",
       "      <td>59,236</td>\n",
       "      <td>80,560</td>\n",
       "      <td>277,223</td>\n",
       "      <td>658,700</td>\n",
       "      <td>2,016,221</td>\n",
       "    </tr>\n",
       "    <tr>\n",
       "      <th>1988</th>\n",
       "      <td>1,404</td>\n",
       "      <td>415,853</td>\n",
       "      <td>411,445</td>\n",
       "      <td>57,142</td>\n",
       "      <td>94,055</td>\n",
       "      <td>274,280</td>\n",
       "      <td>620,902</td>\n",
       "      <td>2,139,381</td>\n",
       "    </tr>\n",
       "    <tr>\n",
       "      <th>1989</th>\n",
       "      <td>1,526</td>\n",
       "      <td>442,124</td>\n",
       "      <td>471,850</td>\n",
       "      <td>54,903</td>\n",
       "      <td>80,268</td>\n",
       "      <td>263,533</td>\n",
       "      <td>656,638</td>\n",
       "      <td>2,430,365</td>\n",
       "    </tr>\n",
       "  </tbody>\n",
       "</table>\n",
       "</div>"
      ],
      "text/plain": [
       "        count    mean     std    min     25%     50%     75%       max\n",
       "yearID                                                                \n",
       "1985    1,153 479,249 338,697 60,000 210,000 410,000 660,000 2,130,300\n",
       "1986    1,571 403,611 382,879 57,945  85,952 284,899 627,743 2,704,123\n",
       "1987    1,343 413,537 403,741 59,236  80,560 277,223 658,700 2,016,221\n",
       "1988    1,404 415,853 411,445 57,142  94,055 274,280 620,902 2,139,381\n",
       "1989    1,526 442,124 471,850 54,903  80,268 263,533 656,638 2,430,365"
      ]
     },
     "execution_count": 26,
     "metadata": {},
     "output_type": "execute_result"
    }
   ],
   "source": [
    "summ_yoy = sal_adj.groupby(['yearID'])['salary'].describe()\n",
    "summ_yoy.head()"
   ]
  },
  {
   "cell_type": "code",
   "execution_count": 27,
   "metadata": {},
   "outputs": [],
   "source": [
    "pt0 = summ_yoy['min']\n",
    "pt25 = summ_yoy['25%']\n",
    "pt50 = summ_yoy['50%']\n",
    "pt75 = summ_yoy['75%']\n",
    "pt100 = summ_yoy['max']"
   ]
  },
  {
   "cell_type": "code",
   "execution_count": 28,
   "metadata": {},
   "outputs": [
    {
     "data": {
      "image/png": "[encoded data removed]",
      "text/plain": [
       "<Figure size 432x288 with 1 Axes>"
      ]
     },
     "metadata": {
      "needs_background": "light"
     },
     "output_type": "display_data"
    }
   ],
   "source": [
    "plt.plot(years, pt0)\n",
    "plt.plot(years, pt25)\n",
    "plt.plot(years, pt50)\n",
    "plt.plot(years, pt75)\n",
    "plt.plot(years, pt100)\n",
    "plt.title('Inflation-Adjusted Salary Percentiles over Time')\n",
    "plt.ylabel('Salary')\n",
    "plt.legend(('min', '25-percentile', '50-percentile', '75-percentile', 'max'),loc='best')\n",
    "plt.show()"
   ]
  },
  {
   "cell_type": "code",
   "execution_count": 29,
   "metadata": {},
   "outputs": [],
   "source": [
    "inc0 = pt0.loc[2016]/pt0.loc[1985] - 1 \n",
    "inc25 = pt25.loc[2016]/pt25.loc[1985] - 1\n",
    "inc50 = pt50.loc[2016]/pt50.loc[1985] - 1\n",
    "inc75 = pt75.loc[2016]/pt75.loc[1985] - 1\n",
    "inc100 = pt100.loc[2016]/pt100.loc[1985] -1\n",
    "\n",
    "r0 = (inc0 + 1)**(1/len(years)) - 1\n",
    "r25 = (inc25 + 1)**(1/len(years)) -1\n",
    "r50 = (inc50 + 1)**(1/len(years)) - 1\n",
    "r75 = (inc75 + 1)**(1/len(years)) - 1\n",
    "r100 = (inc100 + 1)**(1/len(years)) - 1"
   ]
  },
  {
   "cell_type": "code",
   "execution_count": 30,
   "metadata": {},
   "outputs": [
    {
     "data": {
      "text/html": [
       "<div>\n",
       "<style scoped>\n",
       "    .dataframe tbody tr th:only-of-type {\n",
       "        vertical-align: middle;\n",
       "    }\n",
       "\n",
       "    .dataframe tbody tr th {\n",
       "        vertical-align: top;\n",
       "    }\n",
       "\n",
       "    .dataframe thead th {\n",
       "        text-align: right;\n",
       "    }\n",
       "</style>\n",
       "<table border=\"1\" class=\"dataframe\">\n",
       "  <thead>\n",
       "    <tr style=\"text-align: right;\">\n",
       "      <th></th>\n",
       "      <th>min</th>\n",
       "      <th>25%-tile</th>\n",
       "      <th>50%-tile</th>\n",
       "      <th>75%-tile</th>\n",
       "      <th>max</th>\n",
       "    </tr>\n",
       "  </thead>\n",
       "  <tbody>\n",
       "    <tr>\n",
       "      <th>0</th>\n",
       "      <td>2.707</td>\n",
       "      <td>0.086</td>\n",
       "      <td>0.657</td>\n",
       "      <td>2.985</td>\n",
       "      <td>5.790</td>\n",
       "    </tr>\n",
       "    <tr>\n",
       "      <th>1</th>\n",
       "      <td>0.042</td>\n",
       "      <td>0.003</td>\n",
       "      <td>0.016</td>\n",
       "      <td>0.044</td>\n",
       "      <td>0.062</td>\n",
       "    </tr>\n",
       "  </tbody>\n",
       "</table>\n",
       "</div>"
      ],
      "text/plain": [
       "    min  25%-tile  50%-tile  75%-tile   max\n",
       "0 2.707     0.086     0.657     2.985 5.790\n",
       "1 0.042     0.003     0.016     0.044 0.062"
      ]
     },
     "execution_count": 30,
     "metadata": {},
     "output_type": "execute_result"
    }
   ],
   "source": [
    "pd.options.display.float_format = '{:,.3f}'.format\n",
    "increase = pd.DataFrame([[inc0, inc25, inc50, inc75, inc100],[r0, r25, r50, r75, r100] ], \n",
    "                        columns=['min', '25%-tile','50%-tile', '75%-tile', 'max'])\n",
    "increase"
   ]
  },
  {
   "cell_type": "markdown",
   "metadata": {},
   "source": [
    "Salaries above the median have improved more drastically than salaries below the median. The increase in max salaries explains the YoY increase in average inflation-adjusted salaries during the same time period."
   ]
  },
  {
   "cell_type": "markdown",
   "metadata": {},
   "source": [
    "### Average incomes below median vs. above median"
   ]
  },
  {
   "cell_type": "code",
   "execution_count": 31,
   "metadata": {},
   "outputs": [],
   "source": [
    "above50 = []\n",
    "below50 = []\n",
    "\n",
    "for i in years:\n",
    "    year_data = sal_adj[sal_adj['yearID'] == i]['salary']\n",
    "    qt50 = year_data.quantile(0.50)\n",
    "    above = year_data[year_data > qt50]\n",
    "    below = year_data[year_data <= qt50]\n",
    "    \n",
    "    above50.append(above.mean())\n",
    "    below50.append(below.mean())"
   ]
  },
  {
   "cell_type": "code",
   "execution_count": 32,
   "metadata": {},
   "outputs": [
    {
     "data": {
      "image/png": "[encoded data removed]",
      "text/plain": [
       "<Figure size 432x288 with 1 Axes>"
      ]
     },
     "metadata": {
      "needs_background": "light"
     },
     "output_type": "display_data"
    }
   ],
   "source": [
    "plt.plot(years, above50)\n",
    "plt.plot(years, below50)\n",
    "plt.title('Inflation-Adjusted Average Incomes Above/Below Median')\n",
    "plt.ylabel('Average Salary')\n",
    "plt.legend(('Above Median', 'Below Median'),loc='best')\n",
    "plt.show()"
   ]
  },
  {
   "cell_type": "code",
   "execution_count": 33,
   "metadata": {},
   "outputs": [],
   "source": [
    "inc_below = below50[-1] / below50[0] - 1\n",
    "inc_above = above50[-1] / above50[0] - 1\n",
    "\n",
    "r_b = (inc_below + 1)**(1/len(years)) - 1\n",
    "r_a = (inc_above + 1)**(1/len(years)) - 1"
   ]
  },
  {
   "cell_type": "code",
   "execution_count": 34,
   "metadata": {},
   "outputs": [
    {
     "data": {
      "text/html": [
       "<div>\n",
       "<style scoped>\n",
       "    .dataframe tbody tr th:only-of-type {\n",
       "        vertical-align: middle;\n",
       "    }\n",
       "\n",
       "    .dataframe tbody tr th {\n",
       "        vertical-align: top;\n",
       "    }\n",
       "\n",
       "    .dataframe thead th {\n",
       "        text-align: right;\n",
       "    }\n",
       "</style>\n",
       "<table border=\"1\" class=\"dataframe\">\n",
       "  <thead>\n",
       "    <tr style=\"text-align: right;\">\n",
       "      <th></th>\n",
       "      <th>Avg Below Median</th>\n",
       "      <th>Avg Above Median</th>\n",
       "    </tr>\n",
       "  </thead>\n",
       "  <tbody>\n",
       "    <tr>\n",
       "      <th>0</th>\n",
       "      <td>0.334</td>\n",
       "      <td>3.822</td>\n",
       "    </tr>\n",
       "    <tr>\n",
       "      <th>1</th>\n",
       "      <td>0.009</td>\n",
       "      <td>0.050</td>\n",
       "    </tr>\n",
       "  </tbody>\n",
       "</table>\n",
       "</div>"
      ],
      "text/plain": [
       "   Avg Below Median  Avg Above Median\n",
       "0             0.334             3.822\n",
       "1             0.009             0.050"
      ]
     },
     "execution_count": 34,
     "metadata": {},
     "output_type": "execute_result"
    }
   ],
   "source": [
    "increase2 = pd.DataFrame([[inc_below, inc_above], [r_b, r_a]], \n",
    "                        columns=['Avg Below Median', 'Avg Above Median'])\n",
    "increase2"
   ]
  },
  {
   "cell_type": "markdown",
   "metadata": {},
   "source": [
    "The average salary above the median has increased nearly 400%, while the average salary below the median has increased only 33%."
   ]
  },
  {
   "cell_type": "markdown",
   "metadata": {},
   "source": [
    "### Calculating current mean salaries between quartiles"
   ]
  },
  {
   "cell_type": "code",
   "execution_count": 37,
   "metadata": {},
   "outputs": [],
   "source": [
    "sal2016 = sal_adj[sal_adj['yearID'] == 2016]['salary']\n",
    "qt0 = sal2016.min()\n",
    "qt25 = sal2016.quantile(0.25)\n",
    "qt50 = sal2016.quantile(0.50)\n",
    "qt75 = sal2016.quantile(0.75)\n",
    "qt100 = sal2016.max()"
   ]
  },
  {
   "cell_type": "code",
   "execution_count": 38,
   "metadata": {},
   "outputs": [
    {
     "data": {
      "text/plain": [
       "222435.2361004395"
      ]
     },
     "execution_count": 38,
     "metadata": {},
     "output_type": "execute_result"
    }
   ],
   "source": [
    "qt0"
   ]
  },
  {
   "cell_type": "code",
   "execution_count": 36,
   "metadata": {},
   "outputs": [],
   "source": [
    "qt1 = sal2016[sal2016 < qt25]\n",
    "qt2 = sal2016[(sal2016 >= qt25) & (sal2016 < qt50)]\n",
    "qt3 = sal2016[(sal2016 >= qt50) & (sal2016 < qt75)]\n",
    "qt4 = sal2016[sal2016 >= qt75]"
   ]
  },
  {
   "cell_type": "code",
   "execution_count": 35,
   "metadata": {},
   "outputs": [],
   "source": [
    "n = len(sal2016)\n",
    "\n",
    "avg1 = qt1.mean()\n",
    "avg2 = qt2.mean()\n",
    "avg3 = qt3.mean()\n",
    "avg4 = qt4.mean()\n",
    "\n",
    "mult1 = avg1/qt0\n",
    "mult2 = avg2/qt0\n",
    "mult3 = avg3/qt0\n",
    "mult4 = avg4/qt0\n",
    "\n",
    "ct1 = len(sal2016[sal2016 >= avg1])\n",
    "ct2 = len(sal2016[sal2016 >= avg2])\n",
    "ct3 = len(sal2016[sal2016 >= avg3])\n",
    "ct4 = len(sal2016[sal2016 >= avg4])\n",
    "\n",
    "pct1 = ct1/n\n",
    "pct2 = ct2/n\n",
    "pct3 = ct3/n\n",
    "pct4 = ct4/n"
   ]
  },
  {
   "cell_type": "code",
   "execution_count": 36,
   "metadata": {},
   "outputs": [
    {
     "data": {
      "text/html": [
       "<div>\n",
       "<style scoped>\n",
       "    .dataframe tbody tr th:only-of-type {\n",
       "        vertical-align: middle;\n",
       "    }\n",
       "\n",
       "    .dataframe tbody tr th {\n",
       "        vertical-align: top;\n",
       "    }\n",
       "\n",
       "    .dataframe thead th {\n",
       "        text-align: right;\n",
       "    }\n",
       "</style>\n",
       "<table border=\"1\" class=\"dataframe\">\n",
       "  <thead>\n",
       "    <tr style=\"text-align: right;\">\n",
       "      <th></th>\n",
       "      <th>Avg Income</th>\n",
       "      <th>Success Multiple</th>\n",
       "      <th>Count Players Above Avg</th>\n",
       "      <th>% of All Players</th>\n",
       "    </tr>\n",
       "  </thead>\n",
       "  <tbody>\n",
       "    <tr>\n",
       "      <th>&lt; 25%-tile</th>\n",
       "      <td>224,625.69</td>\n",
       "      <td>1.01</td>\n",
       "      <td>1614</td>\n",
       "      <td>0.87</td>\n",
       "    </tr>\n",
       "    <tr>\n",
       "      <th>Between 25 and 50%-tile</th>\n",
       "      <td>356,455.64</td>\n",
       "      <td>1.60</td>\n",
       "      <td>1111</td>\n",
       "      <td>0.60</td>\n",
       "    </tr>\n",
       "    <tr>\n",
       "      <th>Between 50 and 75%-tile</th>\n",
       "      <td>1,512,446.38</td>\n",
       "      <td>6.80</td>\n",
       "      <td>682</td>\n",
       "      <td>0.37</td>\n",
       "    </tr>\n",
       "    <tr>\n",
       "      <th>&gt;= 75%-tile</th>\n",
       "      <td>5,525,695.86</td>\n",
       "      <td>24.84</td>\n",
       "      <td>181</td>\n",
       "      <td>0.10</td>\n",
       "    </tr>\n",
       "  </tbody>\n",
       "</table>\n",
       "</div>"
      ],
      "text/plain": [
       "                          Avg Income  Success Multiple  \\\n",
       "< 25%-tile                224,625.69              1.01   \n",
       "Between 25 and 50%-tile   356,455.64              1.60   \n",
       "Between 50 and 75%-tile 1,512,446.38              6.80   \n",
       ">= 75%-tile             5,525,695.86             24.84   \n",
       "\n",
       "                         Count Players Above Avg  % of All Players  \n",
       "< 25%-tile                                  1614              0.87  \n",
       "Between 25 and 50%-tile                     1111              0.60  \n",
       "Between 50 and 75%-tile                      682              0.37  \n",
       ">= 75%-tile                                  181              0.10  "
      ]
     },
     "execution_count": 36,
     "metadata": {},
     "output_type": "execute_result"
    }
   ],
   "source": [
    "infer = pd.DataFrame([[avg1, mult1, ct1, pct1],\n",
    "                      [avg2, mult2, ct2, pct2], \n",
    "                      [avg3, mult3, ct3, pct3], \n",
    "                      [avg4, mult4, ct4, pct4]], \n",
    "                     index=['< 25%-tile', 'Between 25 and 50%-tile','Between 50 and 75%-tile', '>= 75%-tile'],\n",
    "                     columns=['Avg Income', 'Success Multiple', 'Count Players Above Avg', '% of All Players'])\n",
    "infer"
   ]
  },
  {
   "cell_type": "markdown",
   "metadata": {},
   "source": [
    "### Inferring success multiples and probabilities"
   ]
  },
  {
   "cell_type": "code",
   "execution_count": 39,
   "metadata": {},
   "outputs": [
    {
     "data": {
      "text/plain": [
       "65.0246305418719"
      ]
     },
     "execution_count": 39,
     "metadata": {},
     "output_type": "execute_result"
    }
   ],
   "source": [
    "max_mult = sal2016.max() / sal2016.min()\n",
    "max_mult"
   ]
  },
  {
   "cell_type": "code",
   "execution_count": 44,
   "metadata": {},
   "outputs": [],
   "source": [
    "sal_min = sal2016.min()\n",
    "sal_5x = sal_min * 6\n",
    "sal_10x = sal_min * 11\n",
    "sal_25x = sal_min * 26\n",
    "sal_50x = sal_min * 51"
   ]
  },
  {
   "cell_type": "code",
   "execution_count": 45,
   "metadata": {},
   "outputs": [],
   "source": [
    "x1 = sal2016[sal2016 >= sal_5x]\n",
    "x2 = sal2016[sal2016 >= sal_10x]\n",
    "x3 = sal2016[sal2016 >= sal_25x]\n",
    "x4 = sal2016[sal2016 >= sal_50x]"
   ]
  },
  {
   "cell_type": "code",
   "execution_count": 46,
   "metadata": {},
   "outputs": [],
   "source": [
    "ct1 = len(x1)\n",
    "ct2 = len(x2)\n",
    "ct3 = len(x3)\n",
    "ct4 = len(x4)\n",
    "\n",
    "pct1 = ct1/n\n",
    "pct2 = ct2/n\n",
    "pct3 = ct3/n\n",
    "pct4 = ct4/n"
   ]
  },
  {
   "cell_type": "code",
   "execution_count": 47,
   "metadata": {},
   "outputs": [
    {
     "data": {
      "text/html": [
       "<div>\n",
       "<style scoped>\n",
       "    .dataframe tbody tr th:only-of-type {\n",
       "        vertical-align: middle;\n",
       "    }\n",
       "\n",
       "    .dataframe tbody tr th {\n",
       "        vertical-align: top;\n",
       "    }\n",
       "\n",
       "    .dataframe thead th {\n",
       "        text-align: right;\n",
       "    }\n",
       "</style>\n",
       "<table border=\"1\" class=\"dataframe\">\n",
       "  <thead>\n",
       "    <tr style=\"text-align: right;\">\n",
       "      <th></th>\n",
       "      <th>Income</th>\n",
       "      <th>Count Players Above Avg</th>\n",
       "      <th>% of All Players</th>\n",
       "    </tr>\n",
       "  </thead>\n",
       "  <tbody>\n",
       "    <tr>\n",
       "      <th>5x</th>\n",
       "      <td>1,334,611.42</td>\n",
       "      <td>718</td>\n",
       "      <td>0.39</td>\n",
       "    </tr>\n",
       "    <tr>\n",
       "      <th>10x</th>\n",
       "      <td>2,446,787.60</td>\n",
       "      <td>489</td>\n",
       "      <td>0.26</td>\n",
       "    </tr>\n",
       "    <tr>\n",
       "      <th>25x</th>\n",
       "      <td>5,783,316.14</td>\n",
       "      <td>169</td>\n",
       "      <td>0.09</td>\n",
       "    </tr>\n",
       "    <tr>\n",
       "      <th>50x</th>\n",
       "      <td>11,344,197.04</td>\n",
       "      <td>12</td>\n",
       "      <td>0.01</td>\n",
       "    </tr>\n",
       "  </tbody>\n",
       "</table>\n",
       "</div>"
      ],
      "text/plain": [
       "           Income  Count Players Above Avg  % of All Players\n",
       "5x   1,334,611.42                      718              0.39\n",
       "10x  2,446,787.60                      489              0.26\n",
       "25x  5,783,316.14                      169              0.09\n",
       "50x 11,344,197.04                       12              0.01"
      ]
     },
     "execution_count": 47,
     "metadata": {},
     "output_type": "execute_result"
    }
   ],
   "source": [
    "infer = pd.DataFrame([[sal_5x, ct1, pct1],\n",
    "                      [sal_10x, ct2, pct2], \n",
    "                      [sal_25x, ct3, pct3], \n",
    "                      [sal_50x, ct4, pct4]], \n",
    "                     index=['5x', '10x','25x', '50x'],\n",
    "                     columns=['Income', 'Count Players Above Avg', '% of All Players'])\n",
    "infer"
   ]
  },
  {
   "cell_type": "code",
   "execution_count": null,
   "metadata": {},
   "outputs": [],
   "source": []
  }
 ],
 "metadata": {
  "kernelspec": {
   "display_name": "Python 3",
   "language": "python",
   "name": "python3"
  },
  "language_info": {
   "codemirror_mode": {
    "name": "ipython",
    "version": 3
   },
   "file_extension": ".py",
   "mimetype": "text/x-python",
   "name": "python",
   "nbconvert_exporter": "python",
   "pygments_lexer": "ipython3",
   "version": "3.7.6"
  }
 },
 "nbformat": 4,
 "nbformat_minor": 4
}
